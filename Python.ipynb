

{
 "cells": [
  {
   "cell_type": "markdown",
   "id": "96e17c3a-9a6f-4752-8f2c-60101ba2dff4",
   "metadata": {},
   "source": [
    "# What is the python\n",
    "- Python is a programming language that is interpreted, object-oriented, and considered to be high-level too. What is Python? Python is one of the easiest yet most useful programming languages which is widely used in the software industry. People use Python for Competitive Programming, Web Development, and creating software. Due to its easiest syntax, it is recommended for beginners who are new to the software engineering field. Its demand is growing at a very rapid pace due to its vast use cases in Modern Technological fields like Data Science, Machine learning, and Automation Tasks. For many years now, it has been ranked among the top Programming languages.\n",
    "- Python is a versatile programming language known for its simplicity and readability. Learning Python boosts your ability to develop web applications, data analysis tools, and automation scripts, making it essential for many tech careers.\n",
    "-  Python is a high-level, general-purpose programming language. Its design philosophy emphasizes code readability with the use of significant indentation\n",
    "\n",
    "  ## why is python\n",
    "- Ease of Learning and Readability\n",
    "- Versatility and Cross-Platform Compatibility\n",
    "- Extensive Libraries and Frameworks\n",
    "- Strong Community Support\n",
    "- High Demand in the Job Market\n",
    "- Applications in Emerging Technologies\n",
    "\n",
    "## History of python\n",
    "- Python was created in 1980s by Guido van Rossum. During his research at the National Research Institute for Mathematics and Computer Science in the Netherlands, he created Python – a super easy programming language in terms of reading and usage. The first ever version was released in the year 1991 which had only a few built-in data types and basic functionality.\n",
    "- Later, when it gained popularity among scientists for numerical computations and data analysis, in 1994, Python 1.0 was released with extra features like map, lambda, and filter functions. After that adding new functionalities and releasing newer versions of Python came into fashion.\n",
    " - Python 1.5 released in 1997\n",
    " - Python 2.0 released in 2000\n",
    " - Python 3.0 in 2008 brought newer functionalities\n",
    " - The latest version of Python, Python 3.11 was released in 2022.\n",
    "- Newer functionalities being added to Python makes it more beneficial for developers and improved its performance. In recent years, Python has gained a lot of popularity and is a highly demanding programming language. It has spread its demand in various fields which includes machine learning, artificial intelligence, data analysis, web development, and many more giving you a high-paying job"
   ]
  },
  {
   "cell_type": "markdown",
   "id": "2c909023-d4f4-42a3-a19d-af79b55a69e0",
   "metadata": {},
   "source": [
    "# what are the comments \n",
    "- Comments in Python are the lines in the code that are ignored by the interpreter during the execution of the program.\n",
    "- Comments enhance the readability of the code.\n",
    "- Comment can be used to identify functionality or structure the code-base.\n",
    "- Comment can help understanding unusual or tricky scenarios handled by the code to prevent accidental removal or changes.\n",
    "- Comments can be used to prevent executing any specific part of your code, while making changes or testing.\n",
    "\n",
    "--> single line comments\n",
    "- We can keep one hastag (#) infront of a sentence.\n",
    "\n",
    "--> Multiline comments\n",
    "- We can multiple hashtags (#) to write multiline comments in Python. Each and every line will be considered as a single-line comment.\n"
   ]
  },
  {
   "cell_type": "code",
   "execution_count": 44,
   "id": "2c327df0-8f59-4d78-a546-0260a78af893",
   "metadata": {},
   "outputs": [],
   "source": [
    "# Example single line comments\n",
    "# My name is Rajeev \n",
    "\n",
    "# Multi line comments\n",
    "# my name is Rajeev\n",
    "# I am a Data scientist\n"
   ]
  },
  {
   "cell_type": "markdown",
   "id": "8b6d1696-783a-43f8-a76e-8412455005b0",
   "metadata": {},
   "source": [
    "# What are the Keywords \n",
    "- Python Keywords are some predefined and reserved words in Python that have special meanings. Keywords are used to define the syntax of the coding. The keyword cannot be used as an identifier, function, or variable name. All the keywords in Python are written in lowercase except True and False. There are 35 keywords in Python 3.11."
   ]
  },
  {
   "cell_type": "code",
   "execution_count": 49,
   "id": "64a5fdb7-6b77-47f0-aebe-dc0a0bec49b1",
   "metadata": {},
   "outputs": [],
   "source": [
    "# Example\n",
    "# if, and, as, else, assert, break, class, continue, def, del, in, is, etc.."
   ]
  },
  {
   "cell_type": "markdown",
   "id": "f4abea20-6a4d-4cf4-97b0-f34fc50b2419",
   "metadata": {},
   "source": [
    "# What are the Variables\n",
    "- In Python, variables are used to store data that can be referenced and manipulated during program execution. A variable is essentially a name that is assigned to a value. Unlike many other programming languages, Python variables do not require explicit declaration of type. The type of the variable is inferred based on the value assigned.\n",
    "## Rules for the Variables\n",
    "- Variables can be created by using Alphanumeric Characters.\n",
    "- Variables cant start with numbers.\n",
    "- Variables cant use special characters except '_' (underscore)\n",
    "- Keywords cannot be mentioned as a variable\n",
    "- Variable is a Case Sensitive.\n"
   ]
  },
  {
   "cell_type": "code",
   "execution_count": 54,
   "id": "06afda5f-0de8-4b71-8738-d6be0721a8a7",
   "metadata": {},
   "outputs": [],
   "source": [
    "# Examples for Valid variables\n",
    "Ab = 77\n",
    "a23 = 12\n",
    "cc3 = 3\n",
    "_i = 12\n",
    "IF = 233\n",
    "python = 233\n",
    "RaJEev = 2311\n",
    "BReak1223 = 1223\n",
    "DAte = 21\n",
    "G_i_t = 990"
   ]
  },
  {
   "cell_type": "code",
   "execution_count": 56,
   "id": "6831d1ac-6964-43a0-9c8f-6030cfb14b55",
   "metadata": {},
   "outputs": [
    {
     "ename": "SyntaxError",
     "evalue": "invalid decimal literal (3822738428.py, line 2)",
     "output_type": "error",
     "traceback": [
      "\u001b[1;36m  Cell \u001b[1;32mIn[56], line 2\u001b[1;36m\u001b[0m\n\u001b[1;33m    22d = 22\u001b[0m\n\u001b[1;37m     ^\u001b[0m\n\u001b[1;31mSyntaxError\u001b[0m\u001b[1;31m:\u001b[0m invalid decimal literal\n"
     ]
    }
   ],
   "source": [
    "# Examples for Invalid variables\n",
    "22d = 22\n",
    "break = 28\n",
    "R@jeev = 22\n",
    "Py$thon = 99\n",
    "!@# = 12\n",
    "if = 11\n",
    "assert = 234\n",
    "Ra$44 = 233\n",
    "san@44 = 123\n",
    "RaRa() = 223"
   ]
  },
  {
   "cell_type": "markdown",
   "id": "a8384280-fefc-4c16-8053-ffb30b93e1f9",
   "metadata": {},
   "source": [
    "## types in variables\n",
    "- There are two types in variables\n",
    "- Many to Many : We can take different values for different variables, for one variable there should be one value.\n",
    "- Many to one : here we can take n number of variables but there should be only one value  "
   ]
  },
  {
   "cell_type": "code",
   "execution_count": 9,
   "id": "136a09ff-7605-4dc7-a931-e4775a922408",
   "metadata": {},
   "outputs": [
    {
     "name": "stdout",
     "output_type": "stream",
     "text": [
      "1\n",
      "2\n",
      "3\n",
      "1\n",
      "2\n",
      "1\n",
      "3\n"
     ]
    }
   ],
   "source": [
    "# Many to Many \n",
    "# examples\n",
    "a, b, c = (1, 2, 3)\n",
    "teks, academy = (1, 2) \n",
    "rajeev, rcb = ( 1, 3)\n",
    "print(a)\n",
    "print(b)\n",
    "print(c)\n",
    "print(teks)\n",
    "print(academy)\n",
    "print(rajeev)\n",
    "print(rcb)"
   ]
  },
  {
   "cell_type": "code",
   "execution_count": 13,
   "id": "cdffcb30-d8f0-4618-be7b-857fda7483e6",
   "metadata": {},
   "outputs": [
    {
     "ename": "ValueError",
     "evalue": "not enough values to unpack (expected 3, got 2)",
     "output_type": "error",
     "traceback": [
      "\u001b[1;31m---------------------------------------------------------------------------\u001b[0m",
      "\u001b[1;31mValueError\u001b[0m                                Traceback (most recent call last)",
      "Cell \u001b[1;32mIn[13], line 2\u001b[0m\n\u001b[0;32m      1\u001b[0m \u001b[38;5;66;03m#examples cannot be done for many to many\u001b[39;00m\n\u001b[1;32m----> 2\u001b[0m a, b, c \u001b[38;5;241m=\u001b[39m \u001b[38;5;241m2\u001b[39m, \u001b[38;5;241m3\u001b[39m\n\u001b[0;32m      3\u001b[0m a, b \u001b[38;5;241m=\u001b[39m \u001b[38;5;241m1223\u001b[39m\n",
      "\u001b[1;31mValueError\u001b[0m: not enough values to unpack (expected 3, got 2)"
     ]
    }
   ],
   "source": [
    "#examples cannot be done for many to many\n",
    "a, b, c = 2, 3\n",
    "a, b = 1223"
   ]
  },
  {
   "cell_type": "code",
   "execution_count": 25,
   "id": "56a7d942-64a4-4e6d-ae46-83708449d51f",
   "metadata": {},
   "outputs": [
    {
     "name": "stdout",
     "output_type": "stream",
     "text": [
      "34\n",
      "34\n",
      "34\n",
      "18\n",
      "18\n",
      "18\n"
     ]
    }
   ],
   "source": [
    "#examples for Many to one \n",
    "a = b = c = 34\n",
    "print(a)\n",
    "print(b)\n",
    "print(c)\n",
    "rajeev = rcb = viratfan = 18\n",
    "print(rajeev) \n",
    "print(rcb)\n",
    "print(viratfan)\n"
   ]
  },
  {
   "cell_type": "code",
   "execution_count": null,
   "id": "bc6b4c32-390b-4fab-b7a2-553241318a95",
   "metadata": {},
   "outputs": [],
   "source": []
  }
 ],
 "metadata": {
  "kernelspec": {
   "display_name": "Python [conda env:base] *",
   "language": "python",
   "name": "conda-base-py"
  },
  "language_info": {
   "codemirror_mode": {
    "name": "ipython",
    "version": 3
   },
   "file_extension": ".py",
   "mimetype": "text/x-python",
   "name": "python",
   "nbconvert_exporter": "python",
   "pygments_lexer": "ipython3",
   "version": "3.12.7"
  }
 },
 "nbformat": 4,
 "nbformat_minor": 5
}
