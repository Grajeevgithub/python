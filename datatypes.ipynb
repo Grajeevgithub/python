{
 "cells": [
  {
   "cell_type": "markdown",
   "id": "f7b42f9f-3547-4442-b4fb-531d1dd1933d",
   "metadata": {},
   "source": [
    "# Data types \n",
    "- Python Data types are the classification or categorization of data items. It represents the kind of value that tells what operations can be performed on a particular data. Since everything is an object in Python programming, Python data types are classes and variables are instances (objects) of these classes.\n",
    "- In programming, data type is an important concept. Variables can store data of different types, and different types can do different things.\n",
    "- Variables and data types act as the backbone of any programming language. They play a crucial role in storing data and manipulating data, and they are fundamental building blocks for writing effective and efficient code.\n",
    "  ## Types of Data types\n",
    "  - There are two parts of Data types\n",
    "    - Basic and Advanced\n",
    "\n",
    "    ### Basic Data types\n",
    "    - int\n",
    "    - float\n",
    "    - complex\n",
    "    - boolean\n",
    "    - char\n",
    "    ### Advnace Data types\n",
    "    - strings\n",
    "    - list\n",
    "    - tuple\n",
    "    - set\n",
    "    - dictionaries\n"
   ]
  },
  {
   "cell_type": "markdown",
   "id": "a7d0e828-9dfa-462c-8ef1-9306f77eab49",
   "metadata": {},
   "source": [
    "\n",
    " ## Integer (int)\n",
    " - Integer (int) is a data type where we use for the numbers -ထ to 0 to ထ"
   ]
  },
  {
   "cell_type": "code",
   "execution_count": 9,
   "id": "26e20041-6228-4f2c-aed1-49211947e8fa",
   "metadata": {},
   "outputs": [
    {
     "name": "stdout",
     "output_type": "stream",
     "text": [
      "22\n",
      "-12\n",
      "-33\n",
      "18\n",
      "22\n",
      "-34\n",
      "384\n"
     ]
    }
   ],
   "source": [
    "#examples \n",
    "a = 22\n",
    "b = -12\n",
    "c = -33\n",
    "d = 18\n",
    "Rajeev = 22\n",
    "rcb = -34\n",
    "win = 12*32\n",
    "print(a)\n",
    "print(b)\n",
    "print(c)\n",
    "print(d)\n",
    "print(Rajeev)\n",
    "print(rcb)\n",
    "print(win)"
   ]
  },
  {
   "cell_type": "markdown",
   "id": "a58bd984-0220-45ba-a425-7f8010d651b6",
   "metadata": {},
   "source": [
    "## Float \n",
    "- Float is used for the decimal numbers from -ve to +ve all decimal numbers.\n"
   ]
  },
  {
   "cell_type": "code",
   "execution_count": 12,
   "id": "9f208a2c-222c-4d0d-b409-766a28a8aeee",
   "metadata": {},
   "outputs": [
    {
     "name": "stdout",
     "output_type": "stream",
     "text": [
      "22.3\n",
      "12.2\n",
      "-12.77\n",
      "2.1\n",
      "2.44\n",
      "23.2\n",
      "63.9\n",
      "38.88\n"
     ]
    }
   ],
   "source": [
    "# example \n",
    "a =  22.3\n",
    "c = 12.2\n",
    "d =  -12.77\n",
    "Rajeev = -1.1+3.2\n",
    "rcb = 1.22*2\n",
    "Python = 1+22.2\n",
    "sql = 63.9\n",
    "DA = 3.*3.6*3.6\n",
    "print(a)\n",
    "print(c)\n",
    "print(d)\n",
    "print(Rajeev)\n",
    "print(rcb)\n",
    "print(Python)\n",
    "print(sql)\n",
    "print(DA)\n"
   ]
  },
  {
   "cell_type": "markdown",
   "id": "d344fada-7f39-4b73-bca3-c80e24f60dfd",
   "metadata": {},
   "source": [
    "## Complex\n",
    "- Complex numbers are mix of real numbers and imaginary numbers\n",
    "- We use (j) for the imaginary numbers.\n",
    "  "
   ]
  },
  {
   "cell_type": "code",
   "execution_count": 15,
   "id": "9de666ec-8ad1-4361-b9a5-77c7e2ecc972",
   "metadata": {},
   "outputs": [
    {
     "name": "stdout",
     "output_type": "stream",
     "text": [
      "2j\n",
      "(2+2j)\n",
      "(3-2j)\n",
      "(25+13j)\n",
      "(15-15j)\n",
      "289j\n",
      "225j\n",
      "1j\n",
      "(-77+45j)\n",
      "(-11+810j)\n"
     ]
    }
   ],
   "source": [
    "#Example for complex numbers\n",
    "a = 2j\n",
    "b = 2+2j\n",
    "c = 3-2j\n",
    "d = 12+13+13j\n",
    "Rajeev = 15-15j\n",
    "python = 17*17j\n",
    "sql = 15*15j\n",
    "q3q =  1j\n",
    "virat = 45j-77\n",
    "rohit = 45*18j-11\n",
    "print(a)\n",
    "print(b)\n",
    "print(c)\n",
    "print(d)\n",
    "print(Rajeev)\n",
    "print(python)\n",
    "print(sql)\n",
    "print(q3q)\n",
    "print(virat)\n",
    "print(rohit)"
   ]
  },
  {
   "cell_type": "markdown",
   "id": "599db4ba-a5b8-4053-9b60-8e99150cfa20",
   "metadata": {},
   "source": [
    "## Boolean \n",
    "- boolean is a binary answering data type\n",
    "- Here we have only two outputs which are true and false"
   ]
  },
  {
   "cell_type": "code",
   "execution_count": 9,
   "id": "4dc30f90-b82a-441f-aad3-b2a4c11b4be6",
   "metadata": {},
   "outputs": [
    {
     "name": "stdout",
     "output_type": "stream",
     "text": [
      "True\n",
      "False\n",
      "False\n",
      "True\n",
      "False\n",
      "False\n",
      "False\n",
      "False\n"
     ]
    }
   ],
   "source": [
    "#examples\n",
    "print(1<2)\n",
    "print(2<1)\n",
    "print(56<=33)\n",
    "print(65-33<=32)\n",
    "print(555<=333)\n",
    "print(237*3222<1)\n",
    "print(555 ==333)\n",
    "print(320<22)"
   ]
  },
  {
   "cell_type": "markdown",
   "id": "08c3a0cf-2c19-4836-b417-b5f3570c947c",
   "metadata": {},
   "source": [
    "## Character\n",
    "- Character is used for the strings and letters (Alphabets).\n",
    "- we mention characters in (\"-\") or ('-').\n",
    "- \n"
   ]
  },
  {
   "cell_type": "code",
   "execution_count": 18,
   "id": "ee438483-1e1b-4023-8f63-3b33bf32d4e4",
   "metadata": {},
   "outputs": [
    {
     "name": "stdout",
     "output_type": "stream",
     "text": [
      "virat\n",
      "for\n",
      "used\n",
      "is\n",
      "Character\n",
      "rajeev\n",
      "the\n",
      "strings\n",
      "Alphabets\n",
      "letters\n"
     ]
    }
   ],
   "source": [
    "#examples\n",
    "a = 'rajeev'\n",
    "b = \"virat\"\n",
    "c = \"Character\"\n",
    "d = \"is\"\n",
    "e = \"used\"\n",
    "f = \"for\"\n",
    "g = \"the\"\n",
    "h = \"strings\"\n",
    "I = \"letters\"\n",
    "J = \"Alphabets\"\n",
    "print(b)\n",
    "print(f)\n",
    "print(e)\n",
    "print(d)\n",
    "print(c)\n",
    "print(a)\n",
    "print(g)\n",
    "print(h)\n",
    "print(J)\n",
    "print(I)"
   ]
  },
  {
   "cell_type": "markdown",
   "id": "da21ebfd-7a8f-4283-a83a-fed8db8a5908",
   "metadata": {},
   "source": [
    "## Type function ()\n",
    "- This type function is going to tell the data type of the particular data."
   ]
  },
  {
   "cell_type": "code",
   "execution_count": 32,
   "id": "bd9acc17-422e-404c-82e5-8cb6e63fd149",
   "metadata": {},
   "outputs": [
    {
     "name": "stdout",
     "output_type": "stream",
     "text": [
      "<class 'int'>\n",
      "<class 'int'>\n",
      "<class 'float'>\n",
      "<class 'int'>\n",
      "<class 'float'>\n",
      "<class 'complex'>\n",
      "<class 'str'>\n",
      "<class 'str'>\n",
      "<class 'bool'>\n",
      "<class 'str'>\n",
      "<class 'str'>\n",
      "<class 'int'>\n"
     ]
    }
   ],
   "source": [
    "#Examples\n",
    "print(type(11))\n",
    "print(type(123))\n",
    "print(type(1.341))\n",
    "print(type(-11))\n",
    "print(type(-32.1))\n",
    "print(type(11.33+23j))\n",
    "print(type('rajeev'))\n",
    "print(type('V'))\n",
    "print(type(23<=32))\n",
    "print(type('Virat'))\n",
    "print(type('Kohli'))\n",
    "print(type(100))\n"
   ]
  },
  {
   "cell_type": "code",
   "execution_count": null,
   "id": "26567f5c-66a7-487a-a580-2a42a6e6122b",
   "metadata": {},
   "outputs": [],
   "source": []
  }
 ],
 "metadata": {
  "kernelspec": {
   "display_name": "Python [conda env:base] *",
   "language": "python",
   "name": "conda-base-py"
  },
  "language_info": {
   "codemirror_mode": {
    "name": "ipython",
    "version": 3
   },
   "file_extension": ".py",
   "mimetype": "text/x-python",
   "name": "python",
   "nbconvert_exporter": "python",
   "pygments_lexer": "ipython3",
   "version": "3.12.7"
  }
 },
 "nbformat": 4,
 "nbformat_minor": 5
}
